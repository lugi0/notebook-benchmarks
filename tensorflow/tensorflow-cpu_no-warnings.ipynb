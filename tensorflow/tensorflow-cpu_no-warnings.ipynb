{
 "cells": [
  {
   "cell_type": "code",
   "execution_count": 5,
   "id": "1c02700a",
   "metadata": {
    "ExecuteTime": {
     "end_time": "2021-03-04T20:07:47.647809Z",
     "start_time": "2021-03-04T20:07:47.622673Z"
    }
   },
   "outputs": [
    {
     "name": "stdout",
     "output_type": "stream",
     "text": [
      "Defaulting to user installation because normal site-packages is not writeable\n",
      "Requirement already satisfied: pip in /home/lgiorgi/.local/lib/python3.6/site-packages (21.2.4)\n",
      "\u001b[33mWARNING: Skipping tensorflow as it is not installed.\u001b[0m\n",
      "\u001b[33mWARNING: Skipping tensorflow-gpu as it is not installed.\u001b[0m\n",
      "Defaulting to user installation because normal site-packages is not writeable\n",
      "Requirement already satisfied: tensorflow-cpu in /home/lgiorgi/.local/lib/python3.6/site-packages (2.6.0)\n",
      "Requirement already satisfied: tensorflow_datasets in /home/lgiorgi/.local/lib/python3.6/site-packages (4.4.0)\n",
      "Requirement already satisfied: prometheus_client in /usr/local/lib/python3.6/site-packages (0.10.1)\n",
      "Requirement already satisfied: absl-py~=0.10 in /home/lgiorgi/.local/lib/python3.6/site-packages (from tensorflow-cpu) (0.12.0)\n",
      "Requirement already satisfied: opt-einsum~=3.3.0 in /home/lgiorgi/.local/lib/python3.6/site-packages (from tensorflow-cpu) (3.3.0)\n",
      "Requirement already satisfied: termcolor~=1.1.0 in /usr/local/lib/python3.6/site-packages (from tensorflow-cpu) (1.1.0)\n",
      "Requirement already satisfied: flatbuffers~=1.12.0 in /home/lgiorgi/.local/lib/python3.6/site-packages (from tensorflow-cpu) (1.12)\n",
      "Requirement already satisfied: google-pasta~=0.2 in /home/lgiorgi/.local/lib/python3.6/site-packages (from tensorflow-cpu) (0.2.0)\n",
      "Requirement already satisfied: six~=1.15.0 in /home/lgiorgi/.local/lib/python3.6/site-packages (from tensorflow-cpu) (1.15.0)\n",
      "Requirement already satisfied: keras~=2.6 in /home/lgiorgi/.local/lib/python3.6/site-packages (from tensorflow-cpu) (2.6.0)\n",
      "Requirement already satisfied: wrapt~=1.12.1 in /home/lgiorgi/.local/lib/python3.6/site-packages (from tensorflow-cpu) (1.12.1)\n",
      "Requirement already satisfied: keras-preprocessing~=1.1.2 in /home/lgiorgi/.local/lib/python3.6/site-packages (from tensorflow-cpu) (1.1.2)\n",
      "Requirement already satisfied: typing-extensions~=3.7.4 in /home/lgiorgi/.local/lib/python3.6/site-packages (from tensorflow-cpu) (3.7.4.3)\n",
      "Requirement already satisfied: protobuf>=3.9.2 in /home/lgiorgi/.local/lib/python3.6/site-packages (from tensorflow-cpu) (3.17.0)\n",
      "Requirement already satisfied: tensorboard~=2.6 in /home/lgiorgi/.local/lib/python3.6/site-packages (from tensorflow-cpu) (2.6.0)\n",
      "Requirement already satisfied: gast==0.4.0 in /home/lgiorgi/.local/lib/python3.6/site-packages (from tensorflow-cpu) (0.4.0)\n",
      "Requirement already satisfied: wheel~=0.35 in /home/lgiorgi/.local/lib/python3.6/site-packages (from tensorflow-cpu) (0.36.2)\n",
      "Requirement already satisfied: grpcio<2.0,>=1.37.0 in /home/lgiorgi/.local/lib/python3.6/site-packages (from tensorflow-cpu) (1.39.0)\n",
      "Requirement already satisfied: astunparse~=1.6.3 in /home/lgiorgi/.local/lib/python3.6/site-packages (from tensorflow-cpu) (1.6.3)\n",
      "Requirement already satisfied: clang~=5.0 in /home/lgiorgi/.local/lib/python3.6/site-packages (from tensorflow-cpu) (5.0)\n",
      "Requirement already satisfied: h5py~=3.1.0 in /home/lgiorgi/.local/lib/python3.6/site-packages (from tensorflow-cpu) (3.1.0)\n",
      "Requirement already satisfied: tensorflow-estimator~=2.6 in /home/lgiorgi/.local/lib/python3.6/site-packages (from tensorflow-cpu) (2.6.0)\n",
      "Requirement already satisfied: numpy~=1.19.2 in /home/lgiorgi/.local/lib/python3.6/site-packages (from tensorflow-cpu) (1.19.5)\n",
      "Requirement already satisfied: future in /home/lgiorgi/.local/lib/python3.6/site-packages (from tensorflow_datasets) (0.18.2)\n",
      "Requirement already satisfied: promise in /home/lgiorgi/.local/lib/python3.6/site-packages (from tensorflow_datasets) (2.3)\n",
      "Requirement already satisfied: tensorflow-metadata in /home/lgiorgi/.local/lib/python3.6/site-packages (from tensorflow_datasets) (1.2.0)\n",
      "Requirement already satisfied: requests>=2.19.0 in /home/lgiorgi/.local/lib/python3.6/site-packages (from tensorflow_datasets) (2.23.0)\n",
      "Requirement already satisfied: attrs>=18.1.0 in /usr/local/lib/python3.6/site-packages (from tensorflow_datasets) (21.2.0)\n",
      "Requirement already satisfied: dataclasses in /home/lgiorgi/.local/lib/python3.6/site-packages (from tensorflow_datasets) (0.8)\n",
      "Requirement already satisfied: dill in /home/lgiorgi/.local/lib/python3.6/site-packages (from tensorflow_datasets) (0.3.4)\n",
      "Requirement already satisfied: importlib-resources in /usr/local/lib/python3.6/site-packages (from tensorflow_datasets) (5.2.0)\n",
      "Requirement already satisfied: tqdm in /home/lgiorgi/.local/lib/python3.6/site-packages (from tensorflow_datasets) (4.62.0)\n",
      "Requirement already satisfied: cached-property in /home/lgiorgi/.local/lib/python3.6/site-packages (from h5py~=3.1.0->tensorflow-cpu) (1.5.2)\n",
      "Requirement already satisfied: urllib3!=1.25.0,!=1.25.1,<1.26,>=1.21.1 in /home/lgiorgi/.local/lib/python3.6/site-packages (from requests>=2.19.0->tensorflow_datasets) (1.25.8)\n",
      "Requirement already satisfied: certifi>=2017.4.17 in /home/lgiorgi/.local/lib/python3.6/site-packages (from requests>=2.19.0->tensorflow_datasets) (2020.4.5.1)\n",
      "Requirement already satisfied: idna<3,>=2.5 in /home/lgiorgi/.local/lib/python3.6/site-packages (from requests>=2.19.0->tensorflow_datasets) (2.9)\n",
      "Requirement already satisfied: chardet<4,>=3.0.2 in /usr/lib/python3.6/site-packages (from requests>=2.19.0->tensorflow_datasets) (3.0.4)\n",
      "Requirement already satisfied: setuptools>=41.0.0 in /home/lgiorgi/.local/lib/python3.6/site-packages (from tensorboard~=2.6->tensorflow-cpu) (56.2.0)\n",
      "Requirement already satisfied: tensorboard-data-server<0.7.0,>=0.6.0 in /home/lgiorgi/.local/lib/python3.6/site-packages (from tensorboard~=2.6->tensorflow-cpu) (0.6.1)\n",
      "Requirement already satisfied: markdown>=2.6.8 in /home/lgiorgi/.local/lib/python3.6/site-packages (from tensorboard~=2.6->tensorflow-cpu) (3.3.4)\n",
      "Requirement already satisfied: google-auth-oauthlib<0.5,>=0.4.1 in /home/lgiorgi/.local/lib/python3.6/site-packages (from tensorboard~=2.6->tensorflow-cpu) (0.4.4)\n",
      "Requirement already satisfied: tensorboard-plugin-wit>=1.6.0 in /home/lgiorgi/.local/lib/python3.6/site-packages (from tensorboard~=2.6->tensorflow-cpu) (1.8.0)\n",
      "Requirement already satisfied: google-auth<2,>=1.6.3 in /home/lgiorgi/.local/lib/python3.6/site-packages (from tensorboard~=2.6->tensorflow-cpu) (1.30.0)\n",
      "Requirement already satisfied: werkzeug>=0.11.15 in /home/lgiorgi/.local/lib/python3.6/site-packages (from tensorboard~=2.6->tensorflow-cpu) (2.0.0)\n",
      "Requirement already satisfied: pyasn1-modules>=0.2.1 in /home/lgiorgi/.local/lib/python3.6/site-packages (from google-auth<2,>=1.6.3->tensorboard~=2.6->tensorflow-cpu) (0.2.8)\n",
      "Requirement already satisfied: cachetools<5.0,>=2.0.0 in /home/lgiorgi/.local/lib/python3.6/site-packages (from google-auth<2,>=1.6.3->tensorboard~=2.6->tensorflow-cpu) (4.2.2)\n",
      "Requirement already satisfied: rsa<5,>=3.1.4 in /home/lgiorgi/.local/lib/python3.6/site-packages (from google-auth<2,>=1.6.3->tensorboard~=2.6->tensorflow-cpu) (4.7.2)\n",
      "Requirement already satisfied: requests-oauthlib>=0.7.0 in /home/lgiorgi/.local/lib/python3.6/site-packages (from google-auth-oauthlib<0.5,>=0.4.1->tensorboard~=2.6->tensorflow-cpu) (1.3.0)\n",
      "Requirement already satisfied: importlib-metadata in /usr/local/lib/python3.6/site-packages (from markdown>=2.6.8->tensorboard~=2.6->tensorflow-cpu) (4.0.1)\n",
      "Requirement already satisfied: pyasn1<0.5.0,>=0.4.6 in /home/lgiorgi/.local/lib/python3.6/site-packages (from pyasn1-modules>=0.2.1->google-auth<2,>=1.6.3->tensorboard~=2.6->tensorflow-cpu) (0.4.8)\n",
      "Requirement already satisfied: oauthlib>=3.0.0 in /home/lgiorgi/.local/lib/python3.6/site-packages (from requests-oauthlib>=0.7.0->google-auth-oauthlib<0.5,>=0.4.1->tensorboard~=2.6->tensorflow-cpu) (3.1.0)\n",
      "Requirement already satisfied: zipp>=0.5 in /usr/local/lib/python3.6/site-packages (from importlib-metadata->markdown>=2.6.8->tensorboard~=2.6->tensorflow-cpu) (3.4.1)\n",
      "Requirement already satisfied: googleapis-common-protos<2,>=1.52.0 in /home/lgiorgi/.local/lib/python3.6/site-packages (from tensorflow-metadata->tensorflow_datasets) (1.53.0)\n"
     ]
    }
   ],
   "source": [
    "!python -m pip install --upgrade pip\n",
    "!pip uninstall tensorflow tensorflow-gpu -y\n",
    "!pip install tensorflow-cpu tensorflow_datasets prometheus_client --progress-bar off"
   ]
  },
  {
   "cell_type": "code",
   "execution_count": 4,
   "id": "6ff2c1f8",
   "metadata": {
    "ExecuteTime": {
     "end_time": "2021-03-04T15:32:58.177302Z",
     "start_time": "2021-03-04T15:31:59.263480Z"
    }
   },
   "outputs": [
    {
     "name": "stdout",
     "output_type": "stream",
     "text": [
      "Model: \"sequential\"\n",
      "_________________________________________________________________\n",
      "Layer (type)                 Output Shape              Param #   \n",
      "=================================================================\n",
      "conv2d (Conv2D)              (None, 27, 27, 32)        160       \n",
      "_________________________________________________________________\n",
      "max_pooling2d (MaxPooling2D) (None, 13, 13, 32)        0         \n",
      "_________________________________________________________________\n",
      "flatten (Flatten)            (None, 5408)              0         \n",
      "_________________________________________________________________\n",
      "dense (Dense)                (None, 128)               692352    \n",
      "_________________________________________________________________\n",
      "dropout (Dropout)            (None, 128)               0         \n",
      "_________________________________________________________________\n",
      "dense_1 (Dense)              (None, 10)                1290      \n",
      "=================================================================\n",
      "Total params: 693,802\n",
      "Trainable params: 693,802\n",
      "Non-trainable params: 0\n",
      "_________________________________________________________________\n",
      "Epoch 1/5\n",
      "469/469 [==============================] - 10s 18ms/step - loss: 1.5879 - sparse_categorical_accuracy: 0.8887 - val_loss: 1.5238 - val_sparse_categorical_accuracy: 0.9421\n",
      "Epoch 2/5\n",
      "469/469 [==============================] - 9s 18ms/step - loss: 1.5191 - sparse_categorical_accuracy: 0.9465 - val_loss: 1.5060 - val_sparse_categorical_accuracy: 0.9579\n",
      "Epoch 3/5\n",
      "469/469 [==============================] - 8s 17ms/step - loss: 1.5050 - sparse_categorical_accuracy: 0.9587 - val_loss: 1.4946 - val_sparse_categorical_accuracy: 0.9691\n",
      "Epoch 4/5\n",
      "469/469 [==============================] - 8s 17ms/step - loss: 1.4960 - sparse_categorical_accuracy: 0.9680 - val_loss: 1.4905 - val_sparse_categorical_accuracy: 0.9720\n",
      "Epoch 5/5\n",
      "469/469 [==============================] - 8s 17ms/step - loss: 1.4905 - sparse_categorical_accuracy: 0.9730 - val_loss: 1.4881 - val_sparse_categorical_accuracy: 0.9752\n"
     ]
    },
    {
     "data": {
      "text/plain": [
       "<keras.callbacks.History at 0x7f28d81df4e0>"
      ]
     },
     "execution_count": 4,
     "metadata": {},
     "output_type": "execute_result"
    }
   ],
   "source": [
    "import tensorflow as tf\n",
    "import tensorflow_datasets as tfds\n",
    "import warnings\n",
    "#warnings.filterwarnings('ignore')\n",
    "#tf.get_logger().setLevel(\"FATAL\")\n",
    "\n",
    "tfds.disable_progress_bar()\n",
    "\n",
    "(mnist_train, mnist_test), ds_info = tfds.load(\n",
    "    'mnist',\n",
    "    split=['train', 'test'],\n",
    "    shuffle_files=True,\n",
    "    as_supervised=True,\n",
    "    with_info=True,\n",
    ")\n",
    "\n",
    "\n",
    "def normalize_img(image, label):\n",
    "    \"\"\"Normalizes images: `uint8` -> `float32`.\"\"\"\n",
    "    return tf.cast(image, tf.float32) / 255.0, label\n",
    "\n",
    "\n",
    "mnist_train = mnist_train.map(\n",
    "    normalize_img, num_parallel_calls=tf.data.experimental.AUTOTUNE)\n",
    "mnist_train = mnist_train.cache() \\\n",
    "    .shuffle(ds_info.splits['train'].num_examples) \\\n",
    "    .batch(128) \\\n",
    "    .prefetch(tf.data.experimental.AUTOTUNE)\n",
    "\n",
    "mnist_test = mnist_test.map(\n",
    "    normalize_img, num_parallel_calls=tf.data.experimental.AUTOTUNE)\n",
    "mnist_test = mnist_test.batch(128) \\\n",
    "    .cache() \\\n",
    "    .prefetch(tf.data.experimental.AUTOTUNE)\n",
    "\n",
    "\n",
    "model = tf.keras.models.Sequential([\n",
    "    tf.keras.layers.Conv2D(\n",
    "        filters=32, kernel_size=(2, 2), input_shape=(28, 28, 1)),\n",
    "    tf.keras.layers.MaxPooling2D(pool_size=(2, 2), strides=2),\n",
    "    tf.keras.layers.Flatten(),\n",
    "    tf.keras.layers.Dense(units=128, activation=tf.nn.relu),\n",
    "    tf.keras.layers.Dropout(rate=0.2),\n",
    "    tf.keras.layers.Dense(10, activation=tf.nn.softmax)\n",
    "])\n",
    "\n",
    "\n",
    "model.compile(\n",
    "    optimizer=tf.keras.optimizers.Adam(0.001),\n",
    "    loss=tf.keras.losses.SparseCategoricalCrossentropy(from_logits=True),\n",
    "    metrics=[tf.keras.metrics.SparseCategoricalAccuracy()],\n",
    ")\n",
    "\n",
    "model.summary()\n",
    "\n",
    "\n",
    "        \n",
    "model.fit(mnist_train, epochs=5, validation_data=mnist_test)\n"
   ]
  },
  {
   "cell_type": "code",
   "execution_count": null,
   "id": "348fd0d3",
   "metadata": {},
   "outputs": [],
   "source": []
  }
 ],
 "metadata": {
  "finalized": {
   "timestamp": 1614876075124,
   "trusted": true
  },
  "kernelspec": {
   "display_name": "Python 3",
   "language": "python",
   "name": "python3"
  },
  "language_info": {
   "codemirror_mode": {
    "name": "ipython",
    "version": 3
   },
   "file_extension": ".py",
   "mimetype": "text/x-python",
   "name": "python",
   "nbconvert_exporter": "python",
   "pygments_lexer": "ipython3",
   "version": "3.6.8"
  },
  "toc": {
   "base_numbering": 1,
   "nav_menu": {},
   "number_sections": true,
   "sideBar": true,
   "skip_h1_title": false,
   "title_cell": "Table of Contents",
   "title_sidebar": "Contents",
   "toc_cell": false,
   "toc_position": {},
   "toc_section_display": true,
   "toc_window_display": false
  }
 },
 "nbformat": 4,
 "nbformat_minor": 5
}
